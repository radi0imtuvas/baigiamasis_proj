{
 "cells": [
  {
   "cell_type": "code",
   "execution_count": 1,
   "id": "7ae4bab2",
   "metadata": {},
   "outputs": [],
   "source": [
    "import numpy as np\n",
    "import pandas as pd\n",
    "from sklearn.model_selection import train_test_split\n",
    "from sklearn.compose import ColumnTransformer\n",
    "from sklearn.pipeline import Pipeline\n",
    "from sklearn.impute import SimpleImputer\n",
    "from sklearn.preprocessing import LabelEncoder\n",
    "from sklearn.ensemble import RandomForestClassifier\n",
    "from category_encoders import TargetEncoder\n",
    "from sklearn.metrics import roc_auc_score, accuracy_score, confusion_matrix, classification_report, mean_absolute_error\n",
    "from sklearn.model_selection import train_test_split\n",
    "from sklearn.model_selection import RandomizedSearchCV"
   ]
  },
  {
   "cell_type": "code",
   "execution_count": 2,
   "id": "1508188f",
   "metadata": {},
   "outputs": [],
   "source": [
    "df1 = pd.read_csv('data/isvalytas.csv')\n",
    "df = df1.sample(1000000, random_state=1)"
   ]
  },
  {
   "cell_type": "code",
   "execution_count": 3,
   "id": "33f1964e",
   "metadata": {},
   "outputs": [],
   "source": [
    "exit_status_map = {'completed': 1, 'stopped': 0}\n",
    "df['recepto_statusas'] = df['recepto_statusas'].map(exit_status_map)"
   ]
  },
  {
   "cell_type": "code",
   "execution_count": 4,
   "id": "ae6b9661",
   "metadata": {},
   "outputs": [],
   "source": [
    "y = df.pop('recepto_statusas')\n",
    "X = df"
   ]
  },
  {
   "cell_type": "code",
   "execution_count": 5,
   "id": "fcf5ab2c",
   "metadata": {},
   "outputs": [],
   "source": [
    "seed = 50  # so that the result is reproducible\n",
    "\n",
    "X_train, X_test, y_train, y_test = train_test_split(X,y,test_size=0.333, random_state = seed)"
   ]
  },
  {
   "cell_type": "code",
   "execution_count": 6,
   "id": "22f740a8",
   "metadata": {},
   "outputs": [],
   "source": [
    "categorical_cols = [cname for cname in X_train.columns if X_train[cname].nunique() < 10 and \n",
    "                        X_train[cname].dtype == \"object\"]\n",
    "numerical_cols = [cname for cname in X_train.columns if X_train[cname].dtype in ['int64', 'float64']]"
   ]
  },
  {
   "cell_type": "code",
   "execution_count": 7,
   "id": "61406208",
   "metadata": {},
   "outputs": [],
   "source": [
    "numerical_transformer = SimpleImputer(strategy='constant')\n",
    "\n",
    "# Preprocessing for categorical data\n",
    "categorical_transformer = Pipeline(steps=[\n",
    "    ('imputer', SimpleImputer(strategy='most_frequent')),\n",
    "    ('lab_enc', TargetEncoder())\n",
    "    ])\n",
    "\n",
    "\n",
    "# Bundle preprocessing for numerical and categorical data\n",
    "preprocessor = ColumnTransformer(\n",
    "    transformers=[\n",
    "        ('num', numerical_transformer, numerical_cols),\n",
    "        ('cat', categorical_transformer, categorical_cols)\n",
    "    ])"
   ]
  },
  {
   "cell_type": "code",
   "execution_count": 15,
   "id": "e9acc93b",
   "metadata": {},
   "outputs": [],
   "source": [
    "model = RandomForestClassifier(max_depth=70, max_features=20, max_leaf_nodes=9, min_samples_split=3,\n",
    "                               n_estimators=50, random_state=0)"
   ]
  },
  {
   "cell_type": "code",
   "execution_count": 16,
   "id": "c286e26c",
   "metadata": {},
   "outputs": [
    {
     "name": "stdout",
     "output_type": "stream",
     "text": [
      "MAE: 0.09763063063063063\n"
     ]
    }
   ],
   "source": [
    "pipeline = Pipeline(steps=[('preprocessor', preprocessor),\n",
    "                              ('model', model)\n",
    "                             ])\n",
    "\n",
    "# Preprocessing of training data, fit model \n",
    "pipeline.fit(X_train, y_train)\n",
    "\n",
    "# Preprocessing of validation data, get predictions\n",
    "preds = pipeline.predict(X_test)\n",
    "\n",
    "# Evaluate the model\n",
    "score = mean_absolute_error(y_test, preds)\n",
    "print('MAE:', score)"
   ]
  },
  {
   "cell_type": "code",
   "execution_count": 17,
   "id": "8205e512",
   "metadata": {},
   "outputs": [
    {
     "name": "stdout",
     "output_type": "stream",
     "text": [
      "Accuracy Score: 0.9023693693693694\n",
      "ROC AUC Score: 0.5785232840849619\n",
      "Confusion Matrix: \n",
      "[[  6019  31453]\n",
      " [  1058 294470]]\n"
     ]
    }
   ],
   "source": [
    "val_accuracy = accuracy_score(y_test, preds)\n",
    "val_roc_auc = roc_auc_score(y_test, preds)\n",
    "val_confusion_matrix = confusion_matrix(y_test, preds)\n",
    "print(f'Accuracy Score: {val_accuracy}')\n",
    "print(f'ROC AUC Score: {val_roc_auc}')\n",
    "print(f'Confusion Matrix: \\n{val_confusion_matrix}')"
   ]
  },
  {
   "cell_type": "code",
   "execution_count": 13,
   "id": "4cfaf8da",
   "metadata": {},
   "outputs": [],
   "source": [
    "param_grid = {'model__n_estimators': [30,45,50],\n",
    "          \"model__max_depth\": [45,50,70,90],\n",
    "          \"model__max_features\": [10,20,30],\n",
    "          \"model__min_samples_split\": [1,2,3,5,10],\n",
    "          \"model__min_samples_leaf\": [1,3,5,10]}"
   ]
  },
  {
   "cell_type": "code",
   "execution_count": 14,
   "id": "116bb421",
   "metadata": {},
   "outputs": [
    {
     "name": "stderr",
     "output_type": "stream",
     "text": [
      "/Users/justas/PycharmProjects/projektas/venv/lib/python3.10/site-packages/sklearn/model_selection/_validation.py:378: FitFailedWarning: \n",
      "5 fits failed out of a total of 50.\n",
      "The score on these train-test partitions for these parameters will be set to nan.\n",
      "If these failures are not expected, you can try to debug them by setting error_score='raise'.\n",
      "\n",
      "Below are more details about the failures:\n",
      "--------------------------------------------------------------------------------\n",
      "5 fits failed with the following error:\n",
      "Traceback (most recent call last):\n",
      "  File \"/Users/justas/PycharmProjects/projektas/venv/lib/python3.10/site-packages/sklearn/model_selection/_validation.py\", line 686, in _fit_and_score\n",
      "    estimator.fit(X_train, y_train, **fit_params)\n",
      "  File \"/Users/justas/PycharmProjects/projektas/venv/lib/python3.10/site-packages/sklearn/pipeline.py\", line 405, in fit\n",
      "    self._final_estimator.fit(Xt, y, **fit_params_last_step)\n",
      "  File \"/Users/justas/PycharmProjects/projektas/venv/lib/python3.10/site-packages/sklearn/ensemble/_forest.py\", line 340, in fit\n",
      "    self._validate_params()\n",
      "  File \"/Users/justas/PycharmProjects/projektas/venv/lib/python3.10/site-packages/sklearn/base.py\", line 600, in _validate_params\n",
      "    validate_parameter_constraints(\n",
      "  File \"/Users/justas/PycharmProjects/projektas/venv/lib/python3.10/site-packages/sklearn/utils/_param_validation.py\", line 97, in validate_parameter_constraints\n",
      "    raise InvalidParameterError(\n",
      "sklearn.utils._param_validation.InvalidParameterError: The 'min_samples_split' parameter of RandomForestClassifier must be an int in the range [2, inf) or a float in the range (0.0, 1.0]. Got 1 instead.\n",
      "\n",
      "  warnings.warn(some_fits_failed_message, FitFailedWarning)\n",
      "/Users/justas/PycharmProjects/projektas/venv/lib/python3.10/site-packages/sklearn/model_selection/_search.py:952: UserWarning: One or more of the test scores are non-finite: [0.90273613 0.90273613 0.90273613 0.90273613        nan 0.90273613\n",
      " 0.90273613 0.90273613 0.90273613 0.90273613]\n",
      "  warnings.warn(\n"
     ]
    },
    {
     "name": "stdout",
     "output_type": "stream",
     "text": [
      "Pipeline(steps=[('preprocessor',\n",
      "                 ColumnTransformer(transformers=[('num',\n",
      "                                                  SimpleImputer(strategy='constant'),\n",
      "                                                  ['Unnamed: 0.1',\n",
      "                                                   'recepto_ketv',\n",
      "                                                   'dozuociu_sk',\n",
      "                                                   'dozuociu_sk_vnt_id',\n",
      "                                                   'vart_trukme_d',\n",
      "                                                   'recepto_galiojimas_d',\n",
      "                                                   'kompens_poz',\n",
      "                                                   'Unnamed: 0']),\n",
      "                                                 ('cat',\n",
      "                                                  Pipeline(steps=[('imputer',\n",
      "                                                                   SimpleImputer(strategy='most_frequent')),\n",
      "                                                                  ('lab_enc',\n",
      "                                                                   TargetEncoder())]),\n",
      "                                                  ['pac_lytis',\n",
      "                                                   'pac_amziaus_gr'])])),\n",
      "                ('model',\n",
      "                 RandomForestClassifier(max_depth=70, max_features=20,\n",
      "                                        max_leaf_nodes=9, min_samples_split=3,\n",
      "                                        n_estimators=50, random_state=0))])\n"
     ]
    }
   ],
   "source": [
    "random_search = RandomizedSearchCV(pipeline, param_grid)\n",
    "random_search.fit(X_train, y_train)\n",
    "print(random_search.best_estimator_)"
   ]
  },
  {
   "cell_type": "code",
   "execution_count": null,
   "id": "9b4e9f77",
   "metadata": {},
   "outputs": [],
   "source": []
  }
 ],
 "metadata": {
  "kernelspec": {
   "display_name": "Python 3 (ipykernel)",
   "language": "python",
   "name": "python3"
  },
  "language_info": {
   "codemirror_mode": {
    "name": "ipython",
    "version": 3
   },
   "file_extension": ".py",
   "mimetype": "text/x-python",
   "name": "python",
   "nbconvert_exporter": "python",
   "pygments_lexer": "ipython3",
   "version": "3.10.6"
  }
 },
 "nbformat": 4,
 "nbformat_minor": 5
}
